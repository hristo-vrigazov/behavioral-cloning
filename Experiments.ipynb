{
 "cells": [
  {
   "cell_type": "markdown",
   "metadata": {},
   "source": [
    "# Behavioural cloning project"
   ]
  },
  {
   "cell_type": "code",
   "execution_count": 1,
   "metadata": {
    "collapsed": true
   },
   "outputs": [],
   "source": [
    "# Configure matlab to show graphics in the notebook\n",
    "%matplotlib inline\n",
    "import matplotlib.pyplot as plt\n",
    "import pandas as pd"
   ]
  },
  {
   "cell_type": "code",
   "execution_count": 2,
   "metadata": {
    "collapsed": true
   },
   "outputs": [],
   "source": [
    "# Change to 'data' when training on a GPU\n",
    "PATH_TO_DATA = 'data/sample'"
   ]
  },
  {
   "cell_type": "code",
   "execution_count": 3,
   "metadata": {
    "collapsed": true
   },
   "outputs": [],
   "source": [
    "def img_folder(data_folder):\n",
    "    return '{}/IMG'.format(data_folder)\n",
    "\n",
    "def path_driving_log(data_folder):\n",
    "    return '{}/driving_log.csv'.format(data_folder)"
   ]
  },
  {
   "cell_type": "code",
   "execution_count": 4,
   "metadata": {
    "collapsed": false
   },
   "outputs": [],
   "source": [
    "datasets = ['train', 'test', 'valid']"
   ]
  },
  {
   "cell_type": "code",
   "execution_count": 5,
   "metadata": {
    "collapsed": true
   },
   "outputs": [],
   "source": [
    "def get_driving_log_dataframe(data_folder):\n",
    "    driving_log_df = pd.read_csv(path_driving_log(data_folder))\n",
    "    return driving_log_df"
   ]
  },
  {
   "cell_type": "code",
   "execution_count": 8,
   "metadata": {
    "collapsed": false
   },
   "outputs": [],
   "source": [
    "path_to_folders = dict(zip(datasets, map(lambda folder: '{0}/{1}'.format(PATH_TO_DATA, folder), datasets)))"
   ]
  },
  {
   "cell_type": "code",
   "execution_count": 9,
   "metadata": {
    "collapsed": false
   },
   "outputs": [
    {
     "data": {
      "text/plain": [
       "{'test': 'data/sample/test',\n",
       " 'train': 'data/sample/train',\n",
       " 'valid': 'data/sample/valid'}"
      ]
     },
     "execution_count": 9,
     "metadata": {},
     "output_type": "execute_result"
    }
   ],
   "source": [
    "path_to_folders"
   ]
  },
  {
   "cell_type": "code",
   "execution_count": 14,
   "metadata": {
    "collapsed": true
   },
   "outputs": [],
   "source": [
    "from scipy.ndimage import imread\n",
    "from os import listdir\n",
    "\n",
    "def image_label_generator(data_folder):\n",
    "    driving_log_df = get_driving_log_dataframe(data_folder)\n",
    "    image_folder = img_folder(data_folder)\n",
    "    \n",
    "    return driving_log_df"
   ]
  },
  {
   "cell_type": "code",
   "execution_count": 17,
   "metadata": {
    "collapsed": false
   },
   "outputs": [
    {
     "data": {
      "text/html": [
       "<div>\n",
       "<table border=\"1\" class=\"dataframe\">\n",
       "  <thead>\n",
       "    <tr style=\"text-align: right;\">\n",
       "      <th></th>\n",
       "      <th>Unnamed: 0</th>\n",
       "      <th>center</th>\n",
       "      <th>left</th>\n",
       "      <th>right</th>\n",
       "      <th>steering</th>\n",
       "      <th>throttle</th>\n",
       "      <th>brake</th>\n",
       "      <th>speed</th>\n",
       "    </tr>\n",
       "  </thead>\n",
       "  <tbody>\n",
       "    <tr>\n",
       "      <th>0</th>\n",
       "      <td>16</td>\n",
       "      <td>IMG/center_2016_12_01_13_34_57_594.jpg</td>\n",
       "      <td>IMG/left_2016_12_01_13_34_57_594.jpg</td>\n",
       "      <td>IMG/right_2016_12_01_13_34_57_594.jpg</td>\n",
       "      <td>-0.059757</td>\n",
       "      <td>0.985533</td>\n",
       "      <td>0</td>\n",
       "      <td>30.18541</td>\n",
       "    </tr>\n",
       "    <tr>\n",
       "      <th>1</th>\n",
       "      <td>0</td>\n",
       "      <td>IMG/center_2016_12_01_13_30_48_287.jpg</td>\n",
       "      <td>IMG/left_2016_12_01_13_30_48_287.jpg</td>\n",
       "      <td>IMG/right_2016_12_01_13_30_48_287.jpg</td>\n",
       "      <td>0.000000</td>\n",
       "      <td>0.000000</td>\n",
       "      <td>0</td>\n",
       "      <td>22.14829</td>\n",
       "    </tr>\n",
       "    <tr>\n",
       "      <th>2</th>\n",
       "      <td>11</td>\n",
       "      <td>IMG/center_2016_12_01_13_34_57_088.jpg</td>\n",
       "      <td>IMG/left_2016_12_01_13_34_57_088.jpg</td>\n",
       "      <td>IMG/right_2016_12_01_13_34_57_088.jpg</td>\n",
       "      <td>0.167014</td>\n",
       "      <td>0.985533</td>\n",
       "      <td>0</td>\n",
       "      <td>30.18145</td>\n",
       "    </tr>\n",
       "    <tr>\n",
       "      <th>3</th>\n",
       "      <td>8</td>\n",
       "      <td>IMG/center_2016_12_01_13_34_56_784.jpg</td>\n",
       "      <td>IMG/left_2016_12_01_13_34_56_784.jpg</td>\n",
       "      <td>IMG/right_2016_12_01_13_34_56_784.jpg</td>\n",
       "      <td>0.061760</td>\n",
       "      <td>0.985533</td>\n",
       "      <td>0</td>\n",
       "      <td>30.18575</td>\n",
       "    </tr>\n",
       "    <tr>\n",
       "      <th>4</th>\n",
       "      <td>3</td>\n",
       "      <td>IMG/center_2016_12_01_13_32_58_215.jpg</td>\n",
       "      <td>IMG/left_2016_12_01_13_32_58_215.jpg</td>\n",
       "      <td>IMG/right_2016_12_01_13_32_58_215.jpg</td>\n",
       "      <td>0.000000</td>\n",
       "      <td>0.985533</td>\n",
       "      <td>0</td>\n",
       "      <td>30.18628</td>\n",
       "    </tr>\n",
       "    <tr>\n",
       "      <th>5</th>\n",
       "      <td>6</td>\n",
       "      <td>IMG/center_2016_12_01_13_34_54_048.jpg</td>\n",
       "      <td>IMG/left_2016_12_01_13_34_54_048.jpg</td>\n",
       "      <td>IMG/right_2016_12_01_13_34_54_048.jpg</td>\n",
       "      <td>0.071328</td>\n",
       "      <td>0.985533</td>\n",
       "      <td>0</td>\n",
       "      <td>30.18607</td>\n",
       "    </tr>\n",
       "    <tr>\n",
       "      <th>6</th>\n",
       "      <td>5</td>\n",
       "      <td>IMG/center_2016_12_01_13_34_53_946.jpg</td>\n",
       "      <td>IMG/left_2016_12_01_13_34_53_946.jpg</td>\n",
       "      <td>IMG/right_2016_12_01_13_34_53_946.jpg</td>\n",
       "      <td>0.071328</td>\n",
       "      <td>0.985533</td>\n",
       "      <td>0</td>\n",
       "      <td>30.18541</td>\n",
       "    </tr>\n",
       "    <tr>\n",
       "      <th>7</th>\n",
       "      <td>14</td>\n",
       "      <td>IMG/center_2016_12_01_13_34_57_391.jpg</td>\n",
       "      <td>IMG/left_2016_12_01_13_34_57_391.jpg</td>\n",
       "      <td>IMG/right_2016_12_01_13_34_57_391.jpg</td>\n",
       "      <td>0.000000</td>\n",
       "      <td>0.985533</td>\n",
       "      <td>0</td>\n",
       "      <td>30.18585</td>\n",
       "    </tr>\n",
       "    <tr>\n",
       "      <th>8</th>\n",
       "      <td>13</td>\n",
       "      <td>IMG/center_2016_12_01_13_34_57_289.jpg</td>\n",
       "      <td>IMG/left_2016_12_01_13_34_57_289.jpg</td>\n",
       "      <td>IMG/right_2016_12_01_13_34_57_289.jpg</td>\n",
       "      <td>0.167014</td>\n",
       "      <td>0.985533</td>\n",
       "      <td>0</td>\n",
       "      <td>30.18512</td>\n",
       "    </tr>\n",
       "    <tr>\n",
       "      <th>9</th>\n",
       "      <td>10</td>\n",
       "      <td>IMG/center_2016_12_01_13_34_56_987.jpg</td>\n",
       "      <td>IMG/left_2016_12_01_13_34_56_987.jpg</td>\n",
       "      <td>IMG/right_2016_12_01_13_34_56_987.jpg</td>\n",
       "      <td>0.061760</td>\n",
       "      <td>0.985533</td>\n",
       "      <td>0</td>\n",
       "      <td>30.18630</td>\n",
       "    </tr>\n",
       "    <tr>\n",
       "      <th>10</th>\n",
       "      <td>9</td>\n",
       "      <td>IMG/center_2016_12_01_13_34_56_885.jpg</td>\n",
       "      <td>IMG/left_2016_12_01_13_34_56_885.jpg</td>\n",
       "      <td>IMG/right_2016_12_01_13_34_56_885.jpg</td>\n",
       "      <td>0.061760</td>\n",
       "      <td>0.985533</td>\n",
       "      <td>0</td>\n",
       "      <td>30.18620</td>\n",
       "    </tr>\n",
       "    <tr>\n",
       "      <th>11</th>\n",
       "      <td>4</td>\n",
       "      <td>IMG/center_2016_12_01_13_34_53_844.jpg</td>\n",
       "      <td>IMG/left_2016_12_01_13_34_53_844.jpg</td>\n",
       "      <td>IMG/right_2016_12_01_13_34_53_844.jpg</td>\n",
       "      <td>0.013917</td>\n",
       "      <td>0.985533</td>\n",
       "      <td>0</td>\n",
       "      <td>30.18660</td>\n",
       "    </tr>\n",
       "  </tbody>\n",
       "</table>\n",
       "</div>"
      ],
      "text/plain": [
       "    Unnamed: 0                                  center  \\\n",
       "0           16  IMG/center_2016_12_01_13_34_57_594.jpg   \n",
       "1            0  IMG/center_2016_12_01_13_30_48_287.jpg   \n",
       "2           11  IMG/center_2016_12_01_13_34_57_088.jpg   \n",
       "3            8  IMG/center_2016_12_01_13_34_56_784.jpg   \n",
       "4            3  IMG/center_2016_12_01_13_32_58_215.jpg   \n",
       "5            6  IMG/center_2016_12_01_13_34_54_048.jpg   \n",
       "6            5  IMG/center_2016_12_01_13_34_53_946.jpg   \n",
       "7           14  IMG/center_2016_12_01_13_34_57_391.jpg   \n",
       "8           13  IMG/center_2016_12_01_13_34_57_289.jpg   \n",
       "9           10  IMG/center_2016_12_01_13_34_56_987.jpg   \n",
       "10           9  IMG/center_2016_12_01_13_34_56_885.jpg   \n",
       "11           4  IMG/center_2016_12_01_13_34_53_844.jpg   \n",
       "\n",
       "                                     left  \\\n",
       "0    IMG/left_2016_12_01_13_34_57_594.jpg   \n",
       "1    IMG/left_2016_12_01_13_30_48_287.jpg   \n",
       "2    IMG/left_2016_12_01_13_34_57_088.jpg   \n",
       "3    IMG/left_2016_12_01_13_34_56_784.jpg   \n",
       "4    IMG/left_2016_12_01_13_32_58_215.jpg   \n",
       "5    IMG/left_2016_12_01_13_34_54_048.jpg   \n",
       "6    IMG/left_2016_12_01_13_34_53_946.jpg   \n",
       "7    IMG/left_2016_12_01_13_34_57_391.jpg   \n",
       "8    IMG/left_2016_12_01_13_34_57_289.jpg   \n",
       "9    IMG/left_2016_12_01_13_34_56_987.jpg   \n",
       "10   IMG/left_2016_12_01_13_34_56_885.jpg   \n",
       "11   IMG/left_2016_12_01_13_34_53_844.jpg   \n",
       "\n",
       "                                     right  steering  throttle  brake  \\\n",
       "0    IMG/right_2016_12_01_13_34_57_594.jpg -0.059757  0.985533      0   \n",
       "1    IMG/right_2016_12_01_13_30_48_287.jpg  0.000000  0.000000      0   \n",
       "2    IMG/right_2016_12_01_13_34_57_088.jpg  0.167014  0.985533      0   \n",
       "3    IMG/right_2016_12_01_13_34_56_784.jpg  0.061760  0.985533      0   \n",
       "4    IMG/right_2016_12_01_13_32_58_215.jpg  0.000000  0.985533      0   \n",
       "5    IMG/right_2016_12_01_13_34_54_048.jpg  0.071328  0.985533      0   \n",
       "6    IMG/right_2016_12_01_13_34_53_946.jpg  0.071328  0.985533      0   \n",
       "7    IMG/right_2016_12_01_13_34_57_391.jpg  0.000000  0.985533      0   \n",
       "8    IMG/right_2016_12_01_13_34_57_289.jpg  0.167014  0.985533      0   \n",
       "9    IMG/right_2016_12_01_13_34_56_987.jpg  0.061760  0.985533      0   \n",
       "10   IMG/right_2016_12_01_13_34_56_885.jpg  0.061760  0.985533      0   \n",
       "11   IMG/right_2016_12_01_13_34_53_844.jpg  0.013917  0.985533      0   \n",
       "\n",
       "       speed  \n",
       "0   30.18541  \n",
       "1   22.14829  \n",
       "2   30.18145  \n",
       "3   30.18575  \n",
       "4   30.18628  \n",
       "5   30.18607  \n",
       "6   30.18541  \n",
       "7   30.18585  \n",
       "8   30.18512  \n",
       "9   30.18630  \n",
       "10  30.18620  \n",
       "11  30.18660  "
      ]
     },
     "execution_count": 17,
     "metadata": {},
     "output_type": "execute_result"
    }
   ],
   "source": [
    "image_label_generator(path_to_folders['train'])"
   ]
  },
  {
   "cell_type": "code",
   "execution_count": 10,
   "metadata": {
    "collapsed": true
   },
   "outputs": [],
   "source": [
    "from scipy.ndimage import imread\n",
    "from os import listdir"
   ]
  },
  {
   "cell_type": "code",
   "execution_count": 13,
   "metadata": {
    "collapsed": false
   },
   "outputs": [
    {
     "data": {
      "text/plain": [
       "(160, 320, 3)"
      ]
     },
     "execution_count": 13,
     "metadata": {},
     "output_type": "execute_result"
    }
   ],
   "source": [
    "# Shape of the image\n",
    "random_image.shape"
   ]
  },
  {
   "cell_type": "code",
   "execution_count": 16,
   "metadata": {
    "collapsed": false
   },
   "outputs": [
    {
     "name": "stderr",
     "output_type": "stream",
     "text": [
      "Using TensorFlow backend.\n"
     ]
    }
   ],
   "source": [
    "from keras.models import Sequential\n",
    "from keras.layers import BatchNormalization\n",
    "from keras.layers import Dense\n",
    "from keras.layers import Convolution2D\n",
    "from keras.layers import Flatten"
   ]
  },
  {
   "cell_type": "code",
   "execution_count": 17,
   "metadata": {
    "collapsed": true
   },
   "outputs": [],
   "source": [
    "model = Sequential()"
   ]
  },
  {
   "cell_type": "code",
   "execution_count": 18,
   "metadata": {
    "collapsed": false
   },
   "outputs": [],
   "source": [
    "model.add(Convolution2D(3, 1, 1, \n",
    "                          input_shape=random_image.shape, \n",
    "                          border_mode='same', \n",
    "                          activation='relu'))\n",
    "model.add(BatchNormalization())\n",
    "model.add(Convolution2D(24, 5, 5,\n",
    "                       activation='relu',\n",
    "                       subsample=(2, 2)))\n",
    "model.add(BatchNormalization())\n",
    "model.add(Convolution2D(36, 5, 5,\n",
    "                       activation='relu',\n",
    "                       subsample=(2, 2)))\n",
    "model.add(BatchNormalization())\n",
    "model.add(Convolution2D(48, 5, 5,\n",
    "                       activation='relu',\n",
    "                       subsample=(2, 2)))\n",
    "model.add(BatchNormalization())\n",
    "model.add(Convolution2D(64, 3, 3,\n",
    "                       activation='relu'))\n",
    "model.add(BatchNormalization())\n",
    "model.add(Convolution2D(64, 3, 3,\n",
    "                       activation='relu'))\n",
    "model.add(BatchNormalization())\n",
    "model.add(Convolution2D(64, 3, 3,\n",
    "                       activation='relu'))\n",
    "model.add(BatchNormalization())\n",
    "model.add(Convolution2D(64, 3, 3,\n",
    "                       activation='relu'))\n",
    "model.add(BatchNormalization())\n",
    "model.add(Convolution2D(64, 3, 3,\n",
    "                       activation='relu'))\n",
    "model.add(BatchNormalization())\n",
    "model.add(Convolution2D(64, 3, 3,\n",
    "                       activation='relu'))\n",
    "model.add(BatchNormalization())\n",
    "model.add(Convolution2D(64, 3, 3,\n",
    "                       activation='relu'))\n",
    "model.add(BatchNormalization())\n",
    "model.add(Convolution2D(64, 3, 3,\n",
    "                       activation='relu'))\n",
    "model.add(BatchNormalization())\n",
    "model.add(Flatten())\n",
    "model.add(Dense(256, activation='relu'))\n",
    "model.add(Dense(128, activation='relu'))\n",
    "model.add(Dense(32, activation='relu'))\n",
    "model.add(Dense(1, activation='relu'))"
   ]
  },
  {
   "cell_type": "code",
   "execution_count": 19,
   "metadata": {
    "collapsed": false
   },
   "outputs": [
    {
     "name": "stdout",
     "output_type": "stream",
     "text": [
      "____________________________________________________________________________________________________\n",
      "Layer (type)                     Output Shape          Param #     Connected to                     \n",
      "====================================================================================================\n",
      "convolution2d_1 (Convolution2D)  (None, 160, 320, 3)   12          convolution2d_input_1[0][0]      \n",
      "____________________________________________________________________________________________________\n",
      "batchnormalization_1 (BatchNorma (None, 160, 320, 3)   12          convolution2d_1[0][0]            \n",
      "____________________________________________________________________________________________________\n",
      "convolution2d_2 (Convolution2D)  (None, 78, 158, 24)   1824        batchnormalization_1[0][0]       \n",
      "____________________________________________________________________________________________________\n",
      "batchnormalization_2 (BatchNorma (None, 78, 158, 24)   96          convolution2d_2[0][0]            \n",
      "____________________________________________________________________________________________________\n",
      "convolution2d_3 (Convolution2D)  (None, 37, 77, 36)    21636       batchnormalization_2[0][0]       \n",
      "____________________________________________________________________________________________________\n",
      "batchnormalization_3 (BatchNorma (None, 37, 77, 36)    144         convolution2d_3[0][0]            \n",
      "____________________________________________________________________________________________________\n",
      "convolution2d_4 (Convolution2D)  (None, 17, 37, 48)    43248       batchnormalization_3[0][0]       \n",
      "____________________________________________________________________________________________________\n",
      "batchnormalization_4 (BatchNorma (None, 17, 37, 48)    192         convolution2d_4[0][0]            \n",
      "____________________________________________________________________________________________________\n",
      "convolution2d_5 (Convolution2D)  (None, 15, 35, 64)    27712       batchnormalization_4[0][0]       \n",
      "____________________________________________________________________________________________________\n",
      "batchnormalization_5 (BatchNorma (None, 15, 35, 64)    256         convolution2d_5[0][0]            \n",
      "____________________________________________________________________________________________________\n",
      "convolution2d_6 (Convolution2D)  (None, 13, 33, 64)    36928       batchnormalization_5[0][0]       \n",
      "____________________________________________________________________________________________________\n",
      "batchnormalization_6 (BatchNorma (None, 13, 33, 64)    256         convolution2d_6[0][0]            \n",
      "____________________________________________________________________________________________________\n",
      "convolution2d_7 (Convolution2D)  (None, 11, 31, 64)    36928       batchnormalization_6[0][0]       \n",
      "____________________________________________________________________________________________________\n",
      "batchnormalization_7 (BatchNorma (None, 11, 31, 64)    256         convolution2d_7[0][0]            \n",
      "____________________________________________________________________________________________________\n",
      "convolution2d_8 (Convolution2D)  (None, 9, 29, 64)     36928       batchnormalization_7[0][0]       \n",
      "____________________________________________________________________________________________________\n",
      "batchnormalization_8 (BatchNorma (None, 9, 29, 64)     256         convolution2d_8[0][0]            \n",
      "____________________________________________________________________________________________________\n",
      "convolution2d_9 (Convolution2D)  (None, 7, 27, 64)     36928       batchnormalization_8[0][0]       \n",
      "____________________________________________________________________________________________________\n",
      "batchnormalization_9 (BatchNorma (None, 7, 27, 64)     256         convolution2d_9[0][0]            \n",
      "____________________________________________________________________________________________________\n",
      "convolution2d_10 (Convolution2D) (None, 5, 25, 64)     36928       batchnormalization_9[0][0]       \n",
      "____________________________________________________________________________________________________\n",
      "batchnormalization_10 (BatchNorm (None, 5, 25, 64)     256         convolution2d_10[0][0]           \n",
      "____________________________________________________________________________________________________\n",
      "convolution2d_11 (Convolution2D) (None, 3, 23, 64)     36928       batchnormalization_10[0][0]      \n",
      "____________________________________________________________________________________________________\n",
      "batchnormalization_11 (BatchNorm (None, 3, 23, 64)     256         convolution2d_11[0][0]           \n",
      "____________________________________________________________________________________________________\n",
      "convolution2d_12 (Convolution2D) (None, 1, 21, 64)     36928       batchnormalization_11[0][0]      \n",
      "____________________________________________________________________________________________________\n",
      "batchnormalization_12 (BatchNorm (None, 1, 21, 64)     256         convolution2d_12[0][0]           \n",
      "____________________________________________________________________________________________________\n",
      "flatten_1 (Flatten)              (None, 1344)          0           batchnormalization_12[0][0]      \n",
      "____________________________________________________________________________________________________\n",
      "dense_1 (Dense)                  (None, 256)           344320      flatten_1[0][0]                  \n",
      "____________________________________________________________________________________________________\n",
      "dense_2 (Dense)                  (None, 128)           32896       dense_1[0][0]                    \n",
      "____________________________________________________________________________________________________\n",
      "dense_3 (Dense)                  (None, 32)            4128        dense_2[0][0]                    \n",
      "____________________________________________________________________________________________________\n",
      "dense_4 (Dense)                  (None, 1)             33          dense_3[0][0]                    \n",
      "====================================================================================================\n",
      "Total params: 736,797\n",
      "Trainable params: 735,551\n",
      "Non-trainable params: 1,246\n",
      "____________________________________________________________________________________________________\n"
     ]
    }
   ],
   "source": [
    "model.summary()"
   ]
  },
  {
   "cell_type": "code",
   "execution_count": 20,
   "metadata": {
    "collapsed": true
   },
   "outputs": [],
   "source": [
    "model.compile('adam', 'mse')"
   ]
  },
  {
   "cell_type": "code",
   "execution_count": 21,
   "metadata": {
    "collapsed": false
   },
   "outputs": [],
   "source": [
    "model_json = model.to_json()\n",
    "with open(\"model.json\", \"w\") as json_file:\n",
    "    json_file.write(model_json)\n",
    "# serialize weights to HDF5\n",
    "model.save_weights(\"model.h5\")"
   ]
  },
  {
   "cell_type": "code",
   "execution_count": null,
   "metadata": {
    "collapsed": true
   },
   "outputs": [],
   "source": []
  }
 ],
 "metadata": {
  "kernelspec": {
   "display_name": "Python 3",
   "language": "python",
   "name": "python3"
  },
  "language_info": {
   "codemirror_mode": {
    "name": "ipython",
    "version": 3
   },
   "file_extension": ".py",
   "mimetype": "text/x-python",
   "name": "python",
   "nbconvert_exporter": "python",
   "pygments_lexer": "ipython3",
   "version": "3.5.2"
  },
  "widgets": {
   "state": {},
   "version": "1.1.2"
  }
 },
 "nbformat": 4,
 "nbformat_minor": 2
}
