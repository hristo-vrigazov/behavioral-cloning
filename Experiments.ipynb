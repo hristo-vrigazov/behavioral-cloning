{
 "cells": [
  {
   "cell_type": "markdown",
   "metadata": {},
   "source": [
    "# Behavioural cloning project"
   ]
  },
  {
   "cell_type": "code",
   "execution_count": 1,
   "metadata": {
    "collapsed": false
   },
   "outputs": [],
   "source": [
    "# Configure matlab to show graphics in the notebook\n",
    "%matplotlib inline\n",
    "import matplotlib.pyplot as plt\n",
    "import pandas as pd\n",
    "import numpy as np"
   ]
  },
  {
   "cell_type": "code",
   "execution_count": 2,
   "metadata": {
    "collapsed": true
   },
   "outputs": [],
   "source": [
    "# Change to 'data' when training on a GPU\n",
    "PATH_TO_DATA = 'data/sample/'"
   ]
  },
  {
   "cell_type": "code",
   "execution_count": 3,
   "metadata": {
    "collapsed": true
   },
   "outputs": [],
   "source": [
    "# Shape of the image\n",
    "input_shape = (66, 200, 3)"
   ]
  },
  {
   "cell_type": "code",
   "execution_count": 4,
   "metadata": {
    "collapsed": true
   },
   "outputs": [],
   "source": [
    "def img_folder(data_folder):\n",
    "    return '{}/IMG'.format(data_folder)\n",
    "\n",
    "def path_driving_log(data_folder):\n",
    "    return '{}/driving_log.csv'.format(data_folder)"
   ]
  },
  {
   "cell_type": "code",
   "execution_count": 5,
   "metadata": {
    "collapsed": false
   },
   "outputs": [],
   "source": [
    "datasets = ['train', 'test', 'valid']"
   ]
  },
  {
   "cell_type": "code",
   "execution_count": 6,
   "metadata": {
    "collapsed": true
   },
   "outputs": [],
   "source": [
    "def get_driving_log_dataframe(data_folder):\n",
    "    driving_log_df = pd.read_csv(path_driving_log(data_folder))\n",
    "    return driving_log_df"
   ]
  },
  {
   "cell_type": "code",
   "execution_count": 7,
   "metadata": {
    "collapsed": true
   },
   "outputs": [],
   "source": [
    "driving_log_df = get_driving_log_dataframe(PATH_TO_DATA)"
   ]
  },
  {
   "cell_type": "code",
   "execution_count": 8,
   "metadata": {
    "collapsed": true
   },
   "outputs": [],
   "source": [
    "zero_approximation = 10e-4"
   ]
  },
  {
   "cell_type": "code",
   "execution_count": 9,
   "metadata": {
    "collapsed": false
   },
   "outputs": [
    {
     "name": "stdout",
     "output_type": "stream",
     "text": [
      "Positive: 10\n",
      "Negative: 5\n",
      "Neutral: 4\n"
     ]
    }
   ],
   "source": [
    "num_positive_steerings = len(driving_log_df[driving_log_df['steering'] > zero_approximation])\n",
    "num_negative_steerings = len(driving_log_df[driving_log_df['steering'] < -zero_approximation])\n",
    "num_neutral_steerings = len(driving_log_df[abs(driving_log_df['steering']) <= zero_approximation])\n",
    "\n",
    "print('Positive: {}'.format(num_positive_steerings))\n",
    "print('Negative: {}'.format(num_negative_steerings))\n",
    "print('Neutral: {}'.format(num_neutral_steerings))"
   ]
  },
  {
   "cell_type": "code",
   "execution_count": 10,
   "metadata": {
    "collapsed": false
   },
   "outputs": [],
   "source": [
    "positive_steering_weight = 10\n",
    "negative_steering_weight = num_positive_steerings * 10/ num_negative_steerings\n",
    "neutral_steering_weight = num_positive_steerings * 10 / num_neutral_steerings"
   ]
  },
  {
   "cell_type": "code",
   "execution_count": 11,
   "metadata": {
    "collapsed": false
   },
   "outputs": [],
   "source": [
    "path_to_folders = dict(zip(datasets, map(lambda folder: '{0}/{1}'.format(PATH_TO_DATA, folder), datasets)))"
   ]
  },
  {
   "cell_type": "code",
   "execution_count": 16,
   "metadata": {
    "collapsed": true
   },
   "outputs": [],
   "source": [
    "import cv2"
   ]
  },
  {
   "cell_type": "code",
   "execution_count": 17,
   "metadata": {
    "collapsed": false
   },
   "outputs": [],
   "source": [
    "from scipy.ndimage import imread\n",
    "from os import listdir\n",
    "from sklearn.utils import shuffle\n",
    "\n",
    "from PIL import Image\n",
    "\n",
    "import math\n",
    "\n",
    "\n",
    "def image_label_generator(data_folder, batch_size=64):\n",
    "    driving_log_df = get_driving_log_dataframe(data_folder)\n",
    "    number_of_examples = len(driving_log_df)\n",
    "    image_columns = ['center', 'left', 'right']\n",
    "    \n",
    "    X_train = []\n",
    "    y_train = []\n",
    "    weights = []\n",
    "    index_in_batch = 0\n",
    "    batch_number = 0\n",
    "    \n",
    "    while True:\n",
    "        for image_column in image_columns:\n",
    "            image_series = driving_log_df[image_column]\n",
    "            steering_series = driving_log_df['steering']\n",
    "            for offset in range(0, number_of_examples, batch_size):\n",
    "                X_train = []\n",
    "                y_train = []\n",
    "                weights = []\n",
    "\n",
    "                end_of_batch = min(number_of_examples, offset + batch_size)\n",
    "\n",
    "                for j in range(offset, end_of_batch):\n",
    "                    image_filename = image_series[j].lstrip().rstrip()\n",
    "                    image = Image.open('{0}/{1}'.format(data_folder, image_filename))\n",
    "                    image = image.convert('YCbCr')\n",
    "                    image_np = np.asarray(image.resize((200, 66)))\n",
    "                    label = steering_series[j]\n",
    "                    \n",
    "                    weights.append(1)\n",
    "#                     if abs(label) < 10e-4:\n",
    "#                         weights.append(neutral_steering_weight + math.exp(abs(label)))\n",
    "#                     elif label > 0:\n",
    "#                             weights.append(positive_steering_weight + math.exp(abs(label)))\n",
    "#                     else:\n",
    "#                         weights.append(negative_steering_weight + math.exp(abs(label)))\n",
    "                    \n",
    "                    \n",
    "                    X_train.append(image_np)\n",
    "                    y_train.append(label)\n",
    "                    X_train, y_train, weights = shuffle(X_train, y_train, weights)\n",
    "\n",
    "                yield np.array(X_train), np.array(y_train), np.array(weights)\n",
    "                \n",
    "                X_train = []\n",
    "                y_train = []\n",
    "                weights = []\n",
    "\n",
    "                end_of_batch = min(number_of_examples, offset + batch_size)\n",
    "\n",
    "                for j in range(offset, end_of_batch):\n",
    "                    image_filename = image_series[j].lstrip().rstrip()\n",
    "                    image = Image.open('{0}/{1}'.format(data_folder, image_filename))\n",
    "                    image = image.convert('YCbCr')\n",
    "                    image_np = np.asarray(image.resize((200, 66)))\n",
    "                    label = steering_series[j]\n",
    "                                        \n",
    "                    flipped_image = cv2.flip(image_np, 1)\n",
    "                    flipped_label = -label\n",
    "                    \n",
    "                    X_train.append(flipped_image)\n",
    "                    y_train.append(flipped_label)\n",
    "                    weights.append(1)\n",
    "                    \n",
    "                    X_train, y_train, weights = shuffle(X_train, y_train, weights)\n",
    "\n",
    "                yield np.array(X_train), np.array(y_train), np.array(weights)"
   ]
  },
  {
   "cell_type": "code",
   "execution_count": 18,
   "metadata": {
    "collapsed": false
   },
   "outputs": [],
   "source": [
    "X, y, w = next(image_label_generator(PATH_TO_DATA))"
   ]
  },
  {
   "cell_type": "code",
   "execution_count": 19,
   "metadata": {
    "collapsed": false
   },
   "outputs": [
    {
     "data": {
      "text/plain": [
       "<matplotlib.image.AxesImage at 0x7f4cfc049990>"
      ]
     },
     "execution_count": 19,
     "metadata": {},
     "output_type": "execute_result"
    },
    {
     "data": {
      "image/png": "[encoded data removed]",
      "text/plain": [
       "<matplotlib.figure.Figure at 0x7f4cfc0e0110>"
      ]
     },
     "metadata": {},
     "output_type": "display_data"
    }
   ],
   "source": [
    "plt.imshow(X[0])"
   ]
  },
  {
   "cell_type": "code",
   "execution_count": 22,
   "metadata": {
    "collapsed": false
   },
   "outputs": [],
   "source": [
    "from keras.models import Sequential\n",
    "from keras.layers import BatchNormalization\n",
    "from keras.layers import Dense\n",
    "from keras.layers import Convolution2D\n",
    "from keras.layers import Flatten\n",
    "from keras.layers import Dropout\n",
    "from keras.layers import Lambda"
   ]
  },
  {
   "cell_type": "code",
   "execution_count": 21,
   "metadata": {
    "collapsed": true
   },
   "outputs": [],
   "source": [
    "model = Sequential()"
   ]
  },
  {
   "cell_type": "code",
   "execution_count": 23,
   "metadata": {
    "collapsed": false
   },
   "outputs": [],
   "source": [
    "model.add(Lambda(lambda x: x/255.0,\n",
    "            input_shape=input_shape))\n",
    "model.add(Convolution2D(24, \n",
    "                        5, 5,\n",
    "                       subsample=(2, 2),\n",
    "                       init='he_normal'))\n",
    "model.add(Convolution2D(36, \n",
    "                        5, 5,\n",
    "                       subsample=(2, 2),\n",
    "                       init='he_normal'))\n",
    "model.add(Convolution2D(48, \n",
    "                        5, 5,\n",
    "                       subsample=(2, 2),\n",
    "                       init='he_normal'))\n",
    "model.add(Convolution2D(64,\n",
    "                       3, 3,\n",
    "                       init='he_normal'))\n",
    "model.add(Convolution2D(64,\n",
    "                       3, 3,\n",
    "                       init='he_normal'))\n",
    "model.add(Flatten())\n",
    "model.add(Dense(100, activation='relu', init='he_normal'))\n",
    "model.add(Dense(50, activation='relu', init='he_normal'))\n",
    "model.add(Dense(10, activation='relu', init='he_normal'))\n",
    "model.add(Dense(1, activation='linear', init='he_normal'))"
   ]
  },
  {
   "cell_type": "code",
   "execution_count": 24,
   "metadata": {
    "collapsed": false
   },
   "outputs": [
    {
     "name": "stdout",
     "output_type": "stream",
     "text": [
      "____________________________________________________________________________________________________\n",
      "Layer (type)                     Output Shape          Param #     Connected to                     \n",
      "====================================================================================================\n",
      "lambda_1 (Lambda)                (None, 66, 200, 3)    0           lambda_input_1[0][0]             \n",
      "____________________________________________________________________________________________________\n",
      "convolution2d_1 (Convolution2D)  (None, 31, 98, 24)    1824        lambda_1[0][0]                   \n",
      "____________________________________________________________________________________________________\n",
      "convolution2d_2 (Convolution2D)  (None, 14, 47, 36)    21636       convolution2d_1[0][0]            \n",
      "____________________________________________________________________________________________________\n",
      "convolution2d_3 (Convolution2D)  (None, 5, 22, 48)     43248       convolution2d_2[0][0]            \n",
      "____________________________________________________________________________________________________\n",
      "convolution2d_4 (Convolution2D)  (None, 3, 20, 64)     27712       convolution2d_3[0][0]            \n",
      "____________________________________________________________________________________________________\n",
      "convolution2d_5 (Convolution2D)  (None, 1, 18, 64)     36928       convolution2d_4[0][0]            \n",
      "____________________________________________________________________________________________________\n",
      "flatten_1 (Flatten)              (None, 1152)          0           convolution2d_5[0][0]            \n",
      "____________________________________________________________________________________________________\n",
      "dense_1 (Dense)                  (None, 100)           115300      flatten_1[0][0]                  \n",
      "____________________________________________________________________________________________________\n",
      "dense_2 (Dense)                  (None, 50)            5050        dense_1[0][0]                    \n",
      "____________________________________________________________________________________________________\n",
      "dense_3 (Dense)                  (None, 10)            510         dense_2[0][0]                    \n",
      "____________________________________________________________________________________________________\n",
      "dense_4 (Dense)                  (None, 1)             11          dense_3[0][0]                    \n",
      "====================================================================================================\n",
      "Total params: 252,219\n",
      "Trainable params: 252,219\n",
      "Non-trainable params: 0\n",
      "____________________________________________________________________________________________________\n"
     ]
    }
   ],
   "source": [
    "model.summary()"
   ]
  },
  {
   "cell_type": "code",
   "execution_count": 25,
   "metadata": {
    "collapsed": true
   },
   "outputs": [],
   "source": [
    "from keras.callbacks import ModelCheckpoint\n",
    "filepath=\"weights-improvement-{epoch:02d}.hdf5\"\n",
    "checkpoint = ModelCheckpoint(filepath)\n",
    "callbacks_list = [checkpoint]"
   ]
  },
  {
   "cell_type": "code",
   "execution_count": 26,
   "metadata": {
    "collapsed": true
   },
   "outputs": [],
   "source": [
    "from keras.optimizers import Adam\n",
    "adam = Adam(lr=10e-4)"
   ]
  },
  {
   "cell_type": "code",
   "execution_count": 27,
   "metadata": {
    "collapsed": false
   },
   "outputs": [],
   "source": [
    "model.compile(optimizer=adam, \n",
    "              loss='mse',\n",
    "             metrics=['mean_squared_error'])"
   ]
  },
  {
   "cell_type": "code",
   "execution_count": 28,
   "metadata": {
    "collapsed": false
   },
   "outputs": [],
   "source": [
    "image_generator = image_label_generator(PATH_TO_DATA)\n",
    "samples = len(get_driving_log_dataframe(PATH_TO_DATA))"
   ]
  },
  {
   "cell_type": "code",
   "execution_count": 29,
   "metadata": {
    "collapsed": false
   },
   "outputs": [
    {
     "name": "stdout",
     "output_type": "stream",
     "text": [
      "Epoch 1/5\n",
      "19/19 [==============================] - 1s - loss: 0.0082 - mean_squared_error: 0.0082\n",
      "Epoch 2/5\n",
      "19/19 [==============================] - 0s - loss: 0.0081 - mean_squared_error: 0.0081\n",
      "Epoch 3/5\n",
      "19/19 [==============================] - 0s - loss: 0.0462 - mean_squared_error: 0.0462\n",
      "Epoch 4/5\n",
      "19/19 [==============================] - 0s - loss: 0.0071 - mean_squared_error: 0.0071\n",
      "Epoch 5/5\n",
      "19/19 [==============================] - 0s - loss: 0.0162 - mean_squared_error: 0.0162\n"
     ]
    },
    {
     "data": {
      "text/plain": [
       "<keras.callbacks.History at 0x7f4ce5be6d90>"
      ]
     },
     "execution_count": 29,
     "metadata": {},
     "output_type": "execute_result"
    }
   ],
   "source": [
    "image_generator = image_label_generator(PATH_TO_DATA)\n",
    "samples = len(get_driving_log_dataframe(PATH_TO_DATA))\n",
    "model.fit_generator(image_generator, \n",
    "                    samples_per_epoch=samples, \n",
    "                    nb_epoch=5,\n",
    "                   callbacks=callbacks_list)"
   ]
  },
  {
   "cell_type": "code",
   "execution_count": 30,
   "metadata": {
    "collapsed": false
   },
   "outputs": [],
   "source": [
    "X_val, y_val, w = next(image_label_generator(PATH_TO_DATA))"
   ]
  },
  {
   "cell_type": "code",
   "execution_count": 31,
   "metadata": {
    "collapsed": false
   },
   "outputs": [
    {
     "data": {
      "text/plain": [
       "array([[-0.00501157],\n",
       "       [-0.00374075],\n",
       "       [-0.00421987],\n",
       "       [-0.00270321],\n",
       "       [-0.00357615],\n",
       "       [-0.00365239],\n",
       "       [-0.00311049],\n",
       "       [-0.00476309],\n",
       "       [-0.00365848],\n",
       "       [-0.00397236],\n",
       "       [-0.00355295],\n",
       "       [-0.00365599],\n",
       "       [-0.00324972],\n",
       "       [-0.00255997],\n",
       "       [-0.00397924],\n",
       "       [-0.00547693],\n",
       "       [-0.00449607],\n",
       "       [-0.00292699],\n",
       "       [-0.00358607]], dtype=float32)"
      ]
     },
     "execution_count": 31,
     "metadata": {},
     "output_type": "execute_result"
    }
   ],
   "source": [
    "model.predict(X_val)"
   ]
  },
  {
   "cell_type": "code",
   "execution_count": 36,
   "metadata": {
    "collapsed": false
   },
   "outputs": [],
   "source": [
    "model_json = model.to_json()\n",
    "with open(\"model.json\", \"w\") as json_file:\n",
    "    json_file.write(model_json)\n",
    "# serialize weights to HDF5\n",
    "model.save_weights(\"model.h5\")"
   ]
  },
  {
   "cell_type": "code",
   "execution_count": 26,
   "metadata": {
    "collapsed": false
   },
   "outputs": [
    {
     "data": {
      "text/plain": [
       "array([ 0.3127406 , -0.05468059,  0.        , -0.2021756 ,  0.        ,\n",
       "        0.        ,  0.        , -0.07803941, -0.3285842 , -0.2567704 ,\n",
       "        0.        ,  0.        , -0.3898351 , -0.4916646 , -0.164727  ,\n",
       "        0.        ,  0.        , -0.2008467 , -0.05077529,  0.        ,\n",
       "       -0.512769  ,  0.        ,  0.        ,  0.        ,  0.        ,\n",
       "        0.        , -0.3087602 ,  0.        , -0.4662809 , -0.2275407 ,\n",
       "        0.        ,  0.        , -0.3237014 ,  0.        , -0.1233637 ,\n",
       "        0.        ,  0.        ,  0.        ,  0.        , -0.06370211,\n",
       "        0.        ,  0.        ,  0.        ,  0.        ,  0.        ,\n",
       "       -0.4099739 ,  0.        ,  0.        ,  0.        , -0.357723  ,\n",
       "       -0.00134849,  0.        ,  0.        , -0.3571165 ,  0.        ,\n",
       "        0.        ,  0.        ,  0.        , -0.3544564 , -0.1534824 ,\n",
       "       -0.6370363 ,  0.        , -0.2147133 , -1.        ])"
      ]
     },
     "execution_count": 26,
     "metadata": {},
     "output_type": "execute_result"
    }
   ],
   "source": [
    "y_val"
   ]
  },
  {
   "cell_type": "code",
   "execution_count": 24,
   "metadata": {
    "collapsed": false
   },
   "outputs": [
    {
     "name": "stdout",
     "output_type": "stream",
     "text": [
      "Loaded model from disk\n"
     ]
    }
   ],
   "source": [
    "from keras.models import model_from_json\n",
    "\n",
    "with open('model.json', 'r') as json_file:\n",
    "    loaded_model_json = json_file.read()\n",
    "\n",
    "loaded_model = model_from_json(loaded_model_json)\n",
    "# load weights into new model\n",
    "loaded_model.load_weights(\"model.h5\")\n",
    "print(\"Loaded model from disk\")"
   ]
  },
  {
   "cell_type": "code",
   "execution_count": 26,
   "metadata": {
    "collapsed": false
   },
   "outputs": [
    {
     "name": "stdout",
     "output_type": "stream",
     "text": [
      "Epoch 1/10\n",
      "14816/14816 [==============================] - 50s - loss: 0.3507 - mean_squared_error: 0.0380    \n",
      "Epoch 2/10\n",
      "14816/14816 [==============================] - 48s - loss: 0.2957 - mean_squared_error: 0.0293    \n",
      "Epoch 3/10\n",
      "14816/14816 [==============================] - 48s - loss: 0.2632 - mean_squared_error: 0.0268    \n",
      "Epoch 4/10\n",
      "14816/14816 [==============================] - 48s - loss: 0.2357 - mean_squared_error: 0.0250    \n",
      "Epoch 5/10\n",
      "14816/14816 [==============================] - 48s - loss: 0.2257 - mean_squared_error: 0.0248    \n",
      "Epoch 6/10\n",
      "14816/14816 [==============================] - 48s - loss: 0.2068 - mean_squared_error: 0.0233    \n",
      "Epoch 7/10\n",
      "14816/14816 [==============================] - 48s - loss: 0.2041 - mean_squared_error: 0.0234    \n",
      "Epoch 8/10\n",
      "14816/14816 [==============================] - 48s - loss: 0.2040 - mean_squared_error: 0.0233    \n",
      "Epoch 9/10\n",
      "14816/14816 [==============================] - 48s - loss: 0.1937 - mean_squared_error: 0.0221    \n",
      "Epoch 10/10\n",
      "14816/14816 [==============================] - 48s - loss: 0.1858 - mean_squared_error: 0.0214    \n"
     ]
    },
    {
     "data": {
      "text/plain": [
       "<keras.callbacks.History at 0x7f898c29a710>"
      ]
     },
     "execution_count": 26,
     "metadata": {},
     "output_type": "execute_result"
    }
   ],
   "source": [
    "loaded_model.compile(optimizer=adam, \n",
    "              loss='mse',\n",
    "             metrics=['mean_squared_error'])\n",
    "\n",
    "image_generator = image_label_generator(PATH_TO_DATA)\n",
    "samples = len(get_driving_log_dataframe(PATH_TO_DATA))\n",
    "\n",
    "loaded_model.fit_generator(image_generator, \n",
    "                    samples_per_epoch=samples, \n",
    "                    nb_epoch=10,\n",
    "                   callbacks=callbacks_list)"
   ]
  },
  {
   "cell_type": "code",
   "execution_count": null,
   "metadata": {
    "collapsed": true
   },
   "outputs": [],
   "source": []
  }
 ],
 "metadata": {
  "kernelspec": {
   "display_name": "Python 2",
   "language": "python",
   "name": "python2"
  },
  "language_info": {
   "codemirror_mode": {
    "name": "ipython",
    "version": 2
   },
   "file_extension": ".py",
   "mimetype": "text/x-python",
   "name": "python",
   "nbconvert_exporter": "python",
   "pygments_lexer": "ipython2",
   "version": "2.7.12"
  },
  "widgets": {
   "state": {},
   "version": "1.1.2"
  }
 },
 "nbformat": 4,
 "nbformat_minor": 2
}
